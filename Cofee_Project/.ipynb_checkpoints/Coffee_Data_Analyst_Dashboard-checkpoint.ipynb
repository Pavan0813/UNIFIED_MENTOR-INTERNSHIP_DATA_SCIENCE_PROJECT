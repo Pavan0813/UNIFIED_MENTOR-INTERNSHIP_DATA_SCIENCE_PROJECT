{
 "cells": [
  {
   "cell_type": "code",
   "execution_count": 1,
   "id": "9ae7b6d8",
   "metadata": {},
   "outputs": [],
   "source": [
    "import pandas as pd"
   ]
  },
  {
   "cell_type": "code",
   "execution_count": 11,
   "id": "b0cc3de3",
   "metadata": {},
   "outputs": [],
   "source": [
    "data=pd.read_csv('Coffee_Sales.csv')"
   ]
  },
  {
   "cell_type": "code",
   "execution_count": 12,
   "id": "14de0f36",
   "metadata": {},
   "outputs": [
    {
     "data": {
      "text/html": [
       "<div>\n",
       "<style scoped>\n",
       "    .dataframe tbody tr th:only-of-type {\n",
       "        vertical-align: middle;\n",
       "    }\n",
       "\n",
       "    .dataframe tbody tr th {\n",
       "        vertical-align: top;\n",
       "    }\n",
       "\n",
       "    .dataframe thead th {\n",
       "        text-align: right;\n",
       "    }\n",
       "</style>\n",
       "<table border=\"1\" class=\"dataframe\">\n",
       "  <thead>\n",
       "    <tr style=\"text-align: right;\">\n",
       "      <th></th>\n",
       "      <th>date</th>\n",
       "      <th>datetime</th>\n",
       "      <th>cash_type</th>\n",
       "      <th>card</th>\n",
       "      <th>money</th>\n",
       "      <th>coffee_name</th>\n",
       "      <th>Quantity</th>\n",
       "      <th>Sales</th>\n",
       "    </tr>\n",
       "  </thead>\n",
       "  <tbody>\n",
       "    <tr>\n",
       "      <th>0</th>\n",
       "      <td>01-03-2024</td>\n",
       "      <td>15:50.5</td>\n",
       "      <td>card</td>\n",
       "      <td>ANON-0000-0000-0001</td>\n",
       "      <td>38.7</td>\n",
       "      <td>Latte</td>\n",
       "      <td>50</td>\n",
       "      <td>1935.0</td>\n",
       "    </tr>\n",
       "    <tr>\n",
       "      <th>1</th>\n",
       "      <td>01-03-2024</td>\n",
       "      <td>19:22.5</td>\n",
       "      <td>card</td>\n",
       "      <td>ANON-0000-0000-0002</td>\n",
       "      <td>38.7</td>\n",
       "      <td>Hot Chocolate</td>\n",
       "      <td>60</td>\n",
       "      <td>2322.0</td>\n",
       "    </tr>\n",
       "    <tr>\n",
       "      <th>2</th>\n",
       "      <td>01-03-2024</td>\n",
       "      <td>20:18.1</td>\n",
       "      <td>card</td>\n",
       "      <td>ANON-0000-0000-0002</td>\n",
       "      <td>38.7</td>\n",
       "      <td>Hot Chocolate</td>\n",
       "      <td>60</td>\n",
       "      <td>2322.0</td>\n",
       "    </tr>\n",
       "    <tr>\n",
       "      <th>3</th>\n",
       "      <td>01-03-2024</td>\n",
       "      <td>46:33.0</td>\n",
       "      <td>card</td>\n",
       "      <td>ANON-0000-0000-0003</td>\n",
       "      <td>28.9</td>\n",
       "      <td>Americano</td>\n",
       "      <td>60</td>\n",
       "      <td>1734.0</td>\n",
       "    </tr>\n",
       "    <tr>\n",
       "      <th>4</th>\n",
       "      <td>01-03-2024</td>\n",
       "      <td>48:14.6</td>\n",
       "      <td>card</td>\n",
       "      <td>ANON-0000-0000-0004</td>\n",
       "      <td>38.7</td>\n",
       "      <td>Latte</td>\n",
       "      <td>15</td>\n",
       "      <td>580.5</td>\n",
       "    </tr>\n",
       "  </tbody>\n",
       "</table>\n",
       "</div>"
      ],
      "text/plain": [
       "         date datetime cash_type                 card  money    coffee_name  \\\n",
       "0  01-03-2024  15:50.5      card  ANON-0000-0000-0001   38.7          Latte   \n",
       "1  01-03-2024  19:22.5      card  ANON-0000-0000-0002   38.7  Hot Chocolate   \n",
       "2  01-03-2024  20:18.1      card  ANON-0000-0000-0002   38.7  Hot Chocolate   \n",
       "3  01-03-2024  46:33.0      card  ANON-0000-0000-0003   28.9      Americano   \n",
       "4  01-03-2024  48:14.6      card  ANON-0000-0000-0004   38.7          Latte   \n",
       "\n",
       "   Quantity   Sales  \n",
       "0        50  1935.0  \n",
       "1        60  2322.0  \n",
       "2        60  2322.0  \n",
       "3        60  1734.0  \n",
       "4        15   580.5  "
      ]
     },
     "execution_count": 12,
     "metadata": {},
     "output_type": "execute_result"
    }
   ],
   "source": [
    "data.head()\n"
   ]
  },
  {
   "cell_type": "markdown",
   "id": "6466458c",
   "metadata": {},
   "source": [
    "# Checking for missing value"
   ]
  },
  {
   "cell_type": "code",
   "execution_count": 13,
   "id": "cb3ba243",
   "metadata": {},
   "outputs": [
    {
     "name": "stdout",
     "output_type": "stream",
     "text": [
      "date            0\n",
      "datetime        0\n",
      "cash_type       0\n",
      "card           89\n",
      "money           0\n",
      "coffee_name     0\n",
      "Quantity        0\n",
      "Sales           0\n",
      "dtype: int64\n"
     ]
    }
   ],
   "source": [
    "print(data.isnull().sum())"
   ]
  },
  {
   "cell_type": "markdown",
   "id": "a99f944d",
   "metadata": {},
   "source": [
    "#  Fill missing numerical values with the median\n"
   ]
  },
  {
   "cell_type": "code",
   "execution_count": 29,
   "id": "14c42330",
   "metadata": {},
   "outputs": [],
   "source": [
    "data['Sales'].fillna(data['Sales'].median(), inplace=True)\n",
    "data['Quantity'].fillna(data['Quantity'].median(),\n",
    "inplace=True)\n",
    "data['money'].fillna(data['money'].median(), inplace=True)"
   ]
  },
  {
   "cell_type": "markdown",
   "id": "2834d19c",
   "metadata": {},
   "source": [
    "# Removing Outliers"
   ]
  },
  {
   "cell_type": "code",
   "execution_count": 15,
   "id": "04b5a880",
   "metadata": {},
   "outputs": [],
   "source": [
    "import numpy as np"
   ]
  },
  {
   "cell_type": "code",
   "execution_count": 22,
   "id": "ea894595",
   "metadata": {},
   "outputs": [],
   "source": [
    "from scipy.stats import zscore\n",
    "from datetime import datetime"
   ]
  },
  {
   "cell_type": "markdown",
   "id": "761e9ad7",
   "metadata": {},
   "source": [
    "data=data[(np.abs(zscore(data[['Sales','Quantity',\n",
    "'money']])) < 3).all(axis=1)]\n",
    "\n",
    " \n"
   ]
  },
  {
   "cell_type": "markdown",
   "id": "ef625d46",
   "metadata": {},
   "source": [
    " # Extract month and year from the Date"
   ]
  },
  {
   "cell_type": "code",
   "execution_count": 31,
   "id": "472888ae",
   "metadata": {},
   "outputs": [],
   "source": [
    "data['Date'] = pd.to_datetime(data['date'], dayfirst=True)\n"
   ]
  },
  {
   "cell_type": "code",
   "execution_count": 32,
   "id": "5ad98c80",
   "metadata": {},
   "outputs": [
    {
     "name": "stdout",
     "output_type": "stream",
     "text": [
      "date                   object\n",
      "datetime               object\n",
      "cash_type              object\n",
      "card                   object\n",
      "money                 float64\n",
      "coffee_name            object\n",
      "Quantity                int64\n",
      "Sales                 float64\n",
      "Date           datetime64[ns]\n",
      "dtype: object\n"
     ]
    }
   ],
   "source": [
    " print(data.dtypes)"
   ]
  },
  {
   "cell_type": "code",
   "execution_count": 33,
   "id": "b610195a",
   "metadata": {},
   "outputs": [],
   "source": [
    "data['Month'] = data['Date'].dt.month\n",
    "data['Year'] = data['Date'].dt.year"
   ]
  },
  {
   "cell_type": "markdown",
   "id": "d124562e",
   "metadata": {},
   "source": [
    " # Drop the original Date column"
   ]
  },
  {
   "cell_type": "code",
   "execution_count": 35,
   "id": "7c02604c",
   "metadata": {},
   "outputs": [],
   "source": [
    "data.drop(columns=['date'], inplace=True)"
   ]
  },
  {
   "cell_type": "markdown",
   "id": "329f3a57",
   "metadata": {},
   "source": [
    "#  3. Exploratory Data Analysis (EDA)"
   ]
  },
  {
   "cell_type": "code",
   "execution_count": 38,
   "id": "dc3d60d3",
   "metadata": {},
   "outputs": [],
   "source": [
    "import matplotlib.pyplot as plt\n",
    "import seaborn as sns"
   ]
  },
  {
   "cell_type": "markdown",
   "id": "b78487a8",
   "metadata": {},
   "source": [
    " # Sales over time"
   ]
  },
  {
   "cell_type": "code",
   "execution_count": 56,
   "id": "cca88e60",
   "metadata": {},
   "outputs": [
    {
     "data": {
      "image/png": "[encoded data removed]",
      "text/plain": [
       "<Figure size 1000x600 with 1 Axes>"
      ]
     },
     "metadata": {},
     "output_type": "display_data"
    }
   ],
   "source": [
    "plt.figure(figsize=(10, 6))\n",
    "sns.set_style(\"darkgrid\")  # Optional: set the style for the plot grid\n",
    "sns.set(rc={'axes.facecolor': 'white', 'figure.facecolor': 'white'})  # Set axis and figure background color\n",
    "\n",
    "sns.lineplot(data=data, x='Month', y='Sales', hue='Year')\n",
    "plt.title('Monthly Sales Over Years')\n",
    "plt.show()\n"
   ]
  },
  {
   "cell_type": "code",
   "execution_count": 57,
   "id": "5f8a43fa",
   "metadata": {},
   "outputs": [],
   "source": [
    "data.rename(columns={'coffee_name': 'Product'}, inplace=True)\n"
   ]
  },
  {
   "cell_type": "markdown",
   "id": "e4b86f1c",
   "metadata": {},
   "source": [
    "# Sales by product\n"
   ]
  },
  {
   "cell_type": "code",
   "execution_count": 65,
   "id": "832892fc",
   "metadata": {},
   "outputs": [
    {
     "data": {
      "image/png": "[encoded data removed]",
      "text/plain": [
       "<Figure size 1200x800 with 1 Axes>"
      ]
     },
     "metadata": {},
     "output_type": "display_data"
    }
   ],
   "source": [
    "plt.figure(figsize=(12,8))\n",
    "sns.barplot(data=data,x='Product',y='Sales')\n",
    "plt.title(\"Sales by Product\")\n",
    "plt.show()"
   ]
  },
  {
   "cell_type": "markdown",
   "id": "67c3a844",
   "metadata": {},
   "source": [
    "#  4. Machine Learning Modeling\n",
    "# Splitting the Data"
   ]
  },
  {
   "cell_type": "code",
   "execution_count": 66,
   "id": "b872f15c",
   "metadata": {},
   "outputs": [],
   "source": [
    " from sklearn.model_selection import train_test_split"
   ]
  },
  {
   "cell_type": "code",
   "execution_count": 67,
   "id": "fffc297c",
   "metadata": {},
   "outputs": [],
   "source": [
    "X = data.drop(columns=['Sales'])\n",
    "y = data['Sales']"
   ]
  },
  {
   "cell_type": "markdown",
   "id": "10170b2c",
   "metadata": {},
   "source": [
    "# Define features and target variable"
   ]
  },
  {
   "cell_type": "code",
   "execution_count": 69,
   "id": "24246d6a",
   "metadata": {},
   "outputs": [],
   "source": [
    "X = pd.get_dummies(X, drop_first=True)"
   ]
  },
  {
   "cell_type": "markdown",
   "id": "ed3019b7",
   "metadata": {},
   "source": [
    " # Split the data into training and test sets"
   ]
  },
  {
   "cell_type": "code",
   "execution_count": 70,
   "id": "1a85565e",
   "metadata": {},
   "outputs": [],
   "source": [
    " X_train, X_test, y_train, y_test = train_test_split(X, y,\n",
    " test_size=0.2, random_state=42)"
   ]
  },
  {
   "cell_type": "markdown",
   "id": "71b9ebd8",
   "metadata": {},
   "source": [
    "# Training a Simple Model"
   ]
  },
  {
   "cell_type": "code",
   "execution_count": 71,
   "id": "82eed8a9",
   "metadata": {},
   "outputs": [],
   "source": [
    "from sklearn.linear_model import LinearRegression\n",
    "from sklearn.metrics import mean_squared_error, r2_score"
   ]
  },
  {
   "cell_type": "markdown",
   "id": "069e2759",
   "metadata": {},
   "source": [
    "# Initialize the model\n"
   ]
  },
  {
   "cell_type": "code",
   "execution_count": 72,
   "id": "aeef1fd2",
   "metadata": {},
   "outputs": [],
   "source": [
    "model = LinearRegression()"
   ]
  },
  {
   "cell_type": "markdown",
   "id": "a271172e",
   "metadata": {},
   "source": [
    "# Train the model"
   ]
  },
  {
   "cell_type": "code",
   "execution_count": 75,
   "id": "c330779c",
   "metadata": {},
   "outputs": [
    {
     "name": "stdout",
     "output_type": "stream",
     "text": [
      "money                           float64\n",
      "Quantity                          int64\n",
      "Date                     datetime64[ns]\n",
      "Month                             int32\n",
      "Year                              int32\n",
      "                              ...      \n",
      "Product_Cocoa                      bool\n",
      "Product_Cortado                    bool\n",
      "Product_Espresso                   bool\n",
      "Product_Hot Chocolate              bool\n",
      "Product_Latte                      bool\n",
      "Length: 1574, dtype: object\n",
      "float64\n"
     ]
    }
   ],
   "source": [
    "print(X_train.dtypes)\n",
    "print(y_train.dtypes)\n"
   ]
  },
  {
   "cell_type": "code",
   "execution_count": 76,
   "id": "2db262d6",
   "metadata": {},
   "outputs": [],
   "source": [
    "X_train = X_train.drop(columns=['Date'])\n"
   ]
  },
  {
   "cell_type": "code",
   "execution_count": 77,
   "id": "79eaca9d",
   "metadata": {},
   "outputs": [],
   "source": [
    "X_train = X_train.astype({col: 'int' for col in X_train.select_dtypes('bool').columns})\n"
   ]
  },
  {
   "cell_type": "code",
   "execution_count": 78,
   "id": "90baff34",
   "metadata": {},
   "outputs": [
    {
     "data": {
      "text/html": [
       "<style>#sk-container-id-1 {color: black;}#sk-container-id-1 pre{padding: 0;}#sk-container-id-1 div.sk-toggleable {background-color: white;}#sk-container-id-1 label.sk-toggleable__label {cursor: pointer;display: block;width: 100%;margin-bottom: 0;padding: 0.3em;box-sizing: border-box;text-align: center;}#sk-container-id-1 label.sk-toggleable__label-arrow:before {content: \"▸\";float: left;margin-right: 0.25em;color: #696969;}#sk-container-id-1 label.sk-toggleable__label-arrow:hover:before {color: black;}#sk-container-id-1 div.sk-estimator:hover label.sk-toggleable__label-arrow:before {color: black;}#sk-container-id-1 div.sk-toggleable__content {max-height: 0;max-width: 0;overflow: hidden;text-align: left;background-color: #f0f8ff;}#sk-container-id-1 div.sk-toggleable__content pre {margin: 0.2em;color: black;border-radius: 0.25em;background-color: #f0f8ff;}#sk-container-id-1 input.sk-toggleable__control:checked~div.sk-toggleable__content {max-height: 200px;max-width: 100%;overflow: auto;}#sk-container-id-1 input.sk-toggleable__control:checked~label.sk-toggleable__label-arrow:before {content: \"▾\";}#sk-container-id-1 div.sk-estimator input.sk-toggleable__control:checked~label.sk-toggleable__label {background-color: #d4ebff;}#sk-container-id-1 div.sk-label input.sk-toggleable__control:checked~label.sk-toggleable__label {background-color: #d4ebff;}#sk-container-id-1 input.sk-hidden--visually {border: 0;clip: rect(1px 1px 1px 1px);clip: rect(1px, 1px, 1px, 1px);height: 1px;margin: -1px;overflow: hidden;padding: 0;position: absolute;width: 1px;}#sk-container-id-1 div.sk-estimator {font-family: monospace;background-color: #f0f8ff;border: 1px dotted black;border-radius: 0.25em;box-sizing: border-box;margin-bottom: 0.5em;}#sk-container-id-1 div.sk-estimator:hover {background-color: #d4ebff;}#sk-container-id-1 div.sk-parallel-item::after {content: \"\";width: 100%;border-bottom: 1px solid gray;flex-grow: 1;}#sk-container-id-1 div.sk-label:hover label.sk-toggleable__label {background-color: #d4ebff;}#sk-container-id-1 div.sk-serial::before {content: \"\";position: absolute;border-left: 1px solid gray;box-sizing: border-box;top: 0;bottom: 0;left: 50%;z-index: 0;}#sk-container-id-1 div.sk-serial {display: flex;flex-direction: column;align-items: center;background-color: white;padding-right: 0.2em;padding-left: 0.2em;position: relative;}#sk-container-id-1 div.sk-item {position: relative;z-index: 1;}#sk-container-id-1 div.sk-parallel {display: flex;align-items: stretch;justify-content: center;background-color: white;position: relative;}#sk-container-id-1 div.sk-item::before, #sk-container-id-1 div.sk-parallel-item::before {content: \"\";position: absolute;border-left: 1px solid gray;box-sizing: border-box;top: 0;bottom: 0;left: 50%;z-index: -1;}#sk-container-id-1 div.sk-parallel-item {display: flex;flex-direction: column;z-index: 1;position: relative;background-color: white;}#sk-container-id-1 div.sk-parallel-item:first-child::after {align-self: flex-end;width: 50%;}#sk-container-id-1 div.sk-parallel-item:last-child::after {align-self: flex-start;width: 50%;}#sk-container-id-1 div.sk-parallel-item:only-child::after {width: 0;}#sk-container-id-1 div.sk-dashed-wrapped {border: 1px dashed gray;margin: 0 0.4em 0.5em 0.4em;box-sizing: border-box;padding-bottom: 0.4em;background-color: white;}#sk-container-id-1 div.sk-label label {font-family: monospace;font-weight: bold;display: inline-block;line-height: 1.2em;}#sk-container-id-1 div.sk-label-container {text-align: center;}#sk-container-id-1 div.sk-container {/* jupyter's `normalize.less` sets `[hidden] { display: none; }` but bootstrap.min.css set `[hidden] { display: none !important; }` so we also need the `!important` here to be able to override the default hidden behavior on the sphinx rendered scikit-learn.org. See: https://github.com/scikit-learn/scikit-learn/issues/21755 */display: inline-block !important;position: relative;}#sk-container-id-1 div.sk-text-repr-fallback {display: none;}</style><div id=\"sk-container-id-1\" class=\"sk-top-container\"><div class=\"sk-text-repr-fallback\"><pre>LinearRegression()</pre><b>In a Jupyter environment, please rerun this cell to show the HTML representation or trust the notebook. <br />On GitHub, the HTML representation is unable to render, please try loading this page with nbviewer.org.</b></div><div class=\"sk-container\" hidden><div class=\"sk-item\"><div class=\"sk-estimator sk-toggleable\"><input class=\"sk-toggleable__control sk-hidden--visually\" id=\"sk-estimator-id-1\" type=\"checkbox\" checked><label for=\"sk-estimator-id-1\" class=\"sk-toggleable__label sk-toggleable__label-arrow\">LinearRegression</label><div class=\"sk-toggleable__content\"><pre>LinearRegression()</pre></div></div></div></div></div>"
      ],
      "text/plain": [
       "LinearRegression()"
      ]
     },
     "execution_count": 78,
     "metadata": {},
     "output_type": "execute_result"
    }
   ],
   "source": [
    "model.fit(X_train, y_train)\n"
   ]
  },
  {
   "cell_type": "markdown",
   "id": "92d1dd60",
   "metadata": {},
   "source": [
    "#  5. Model Interpretation and Conclusion"
   ]
  },
  {
   "cell_type": "code",
   "execution_count": 84,
   "id": "6171c096",
   "metadata": {},
   "outputs": [],
   "source": [
    "coefficients =pd.DataFrame(model.coef_,columns=['Coefficient'])\n",
    "\n",
    "\n",
    " "
   ]
  },
  {
   "cell_type": "code",
   "execution_count": 85,
   "id": "26abfe67",
   "metadata": {},
   "outputs": [
    {
     "name": "stdout",
     "output_type": "stream",
     "text": [
      "      Coefficient\n",
      "0       55.138307\n",
      "1       32.916177\n",
      "2        1.744268\n",
      "3       -1.574920\n",
      "4        7.073578\n",
      "...           ...\n",
      "1568    25.101122\n",
      "1569    32.757098\n",
      "1570    -0.902008\n",
      "1571   -31.812472\n",
      "1572   -21.852343\n",
      "\n",
      "[1573 rows x 1 columns]\n"
     ]
    }
   ],
   "source": [
    " print(coefficients)"
   ]
  },
  {
   "cell_type": "markdown",
   "id": "65dfb80e",
   "metadata": {},
   "source": [
    "# Summary\n",
    "# In this guide, we performed the following steps:\n",
    " \n",
    " 1.Loadedandcleanedthecoffeesalesdata.\n",
    " 2.Conductedexploratorydataanalysis(EDA)tovisualizesalestrends.\n",
    " 3.Preparedthedataformachinelearningbyhandlingcategoricalvariablesand\n",
    " splittingthedataset.\n",
    " 4.Trainedasimplelinearregressionmodel topredictsales.\n",
    " 5.Evaluatedthemodel'sperformance.\n",
    " This isabasicexample.Foramorerobustanalysis,youmightconsideradvanced\n",
    " techniqueslikecross-validation, featureselection,andtryingdifferentalgorithms."
   ]
  },
  {
   "cell_type": "code",
   "execution_count": 86,
   "id": "8d498445",
   "metadata": {},
   "outputs": [],
   "source": [
    " import numpy as np # linear algebra\n",
    " import pandas as pd # data processing, CSV file I/O (e.g. pd.read_csv)\n",
    " import matplotlib.pyplot as plt\n",
    " import seaborn as sns\n",
    " import datetime as dt\n",
    " import warnings\n",
    " warnings.filterwarnings('ignore')"
   ]
  },
  {
   "cell_type": "code",
   "execution_count": 87,
   "id": "c7819924",
   "metadata": {},
   "outputs": [],
   "source": [
    " coffee_data = pd.read_csv('Coffee_Sales.csv')"
   ]
  },
  {
   "cell_type": "code",
   "execution_count": 88,
   "id": "b1e96773",
   "metadata": {},
   "outputs": [
    {
     "data": {
      "text/html": [
       "<div>\n",
       "<style scoped>\n",
       "    .dataframe tbody tr th:only-of-type {\n",
       "        vertical-align: middle;\n",
       "    }\n",
       "\n",
       "    .dataframe tbody tr th {\n",
       "        vertical-align: top;\n",
       "    }\n",
       "\n",
       "    .dataframe thead th {\n",
       "        text-align: right;\n",
       "    }\n",
       "</style>\n",
       "<table border=\"1\" class=\"dataframe\">\n",
       "  <thead>\n",
       "    <tr style=\"text-align: right;\">\n",
       "      <th></th>\n",
       "      <th>date</th>\n",
       "      <th>datetime</th>\n",
       "      <th>cash_type</th>\n",
       "      <th>card</th>\n",
       "      <th>money</th>\n",
       "      <th>coffee_name</th>\n",
       "      <th>Quantity</th>\n",
       "      <th>Sales</th>\n",
       "    </tr>\n",
       "  </thead>\n",
       "  <tbody>\n",
       "    <tr>\n",
       "      <th>0</th>\n",
       "      <td>01-03-2024</td>\n",
       "      <td>15:50.5</td>\n",
       "      <td>card</td>\n",
       "      <td>ANON-0000-0000-0001</td>\n",
       "      <td>38.7</td>\n",
       "      <td>Latte</td>\n",
       "      <td>50</td>\n",
       "      <td>1935.0</td>\n",
       "    </tr>\n",
       "    <tr>\n",
       "      <th>1</th>\n",
       "      <td>01-03-2024</td>\n",
       "      <td>19:22.5</td>\n",
       "      <td>card</td>\n",
       "      <td>ANON-0000-0000-0002</td>\n",
       "      <td>38.7</td>\n",
       "      <td>Hot Chocolate</td>\n",
       "      <td>60</td>\n",
       "      <td>2322.0</td>\n",
       "    </tr>\n",
       "    <tr>\n",
       "      <th>2</th>\n",
       "      <td>01-03-2024</td>\n",
       "      <td>20:18.1</td>\n",
       "      <td>card</td>\n",
       "      <td>ANON-0000-0000-0002</td>\n",
       "      <td>38.7</td>\n",
       "      <td>Hot Chocolate</td>\n",
       "      <td>60</td>\n",
       "      <td>2322.0</td>\n",
       "    </tr>\n",
       "    <tr>\n",
       "      <th>3</th>\n",
       "      <td>01-03-2024</td>\n",
       "      <td>46:33.0</td>\n",
       "      <td>card</td>\n",
       "      <td>ANON-0000-0000-0003</td>\n",
       "      <td>28.9</td>\n",
       "      <td>Americano</td>\n",
       "      <td>60</td>\n",
       "      <td>1734.0</td>\n",
       "    </tr>\n",
       "    <tr>\n",
       "      <th>4</th>\n",
       "      <td>01-03-2024</td>\n",
       "      <td>48:14.6</td>\n",
       "      <td>card</td>\n",
       "      <td>ANON-0000-0000-0004</td>\n",
       "      <td>38.7</td>\n",
       "      <td>Latte</td>\n",
       "      <td>15</td>\n",
       "      <td>580.5</td>\n",
       "    </tr>\n",
       "  </tbody>\n",
       "</table>\n",
       "</div>"
      ],
      "text/plain": [
       "         date datetime cash_type                 card  money    coffee_name  \\\n",
       "0  01-03-2024  15:50.5      card  ANON-0000-0000-0001   38.7          Latte   \n",
       "1  01-03-2024  19:22.5      card  ANON-0000-0000-0002   38.7  Hot Chocolate   \n",
       "2  01-03-2024  20:18.1      card  ANON-0000-0000-0002   38.7  Hot Chocolate   \n",
       "3  01-03-2024  46:33.0      card  ANON-0000-0000-0003   28.9      Americano   \n",
       "4  01-03-2024  48:14.6      card  ANON-0000-0000-0004   38.7          Latte   \n",
       "\n",
       "   Quantity   Sales  \n",
       "0        50  1935.0  \n",
       "1        60  2322.0  \n",
       "2        60  2322.0  \n",
       "3        60  1734.0  \n",
       "4        15   580.5  "
      ]
     },
     "execution_count": 88,
     "metadata": {},
     "output_type": "execute_result"
    }
   ],
   "source": [
    "coffee_data.head()"
   ]
  },
  {
   "cell_type": "code",
   "execution_count": 89,
   "id": "0ba5872b",
   "metadata": {},
   "outputs": [
    {
     "name": "stdout",
     "output_type": "stream",
     "text": [
      "<class 'pandas.core.frame.DataFrame'>\n",
      "RangeIndex: 1133 entries, 0 to 1132\n",
      "Data columns (total 8 columns):\n",
      " #   Column       Non-Null Count  Dtype  \n",
      "---  ------       --------------  -----  \n",
      " 0   date         1133 non-null   object \n",
      " 1   datetime     1133 non-null   object \n",
      " 2   cash_type    1133 non-null   object \n",
      " 3   card         1044 non-null   object \n",
      " 4   money        1133 non-null   float64\n",
      " 5   coffee_name  1133 non-null   object \n",
      " 6   Quantity     1133 non-null   int64  \n",
      " 7   Sales        1133 non-null   float64\n",
      "dtypes: float64(2), int64(1), object(5)\n",
      "memory usage: 70.9+ KB\n"
     ]
    }
   ],
   "source": [
    "coffee_data.info()"
   ]
  },
  {
   "cell_type": "code",
   "execution_count": 90,
   "id": "b9c8f610",
   "metadata": {},
   "outputs": [
    {
     "data": {
      "text/plain": [
       "date            0\n",
       "datetime        0\n",
       "cash_type       0\n",
       "card           89\n",
       "money           0\n",
       "coffee_name     0\n",
       "Quantity        0\n",
       "Sales           0\n",
       "dtype: int64"
      ]
     },
     "execution_count": 90,
     "metadata": {},
     "output_type": "execute_result"
    }
   ],
   "source": [
    " coffee_data.isnull().sum()"
   ]
  },
  {
   "cell_type": "code",
   "execution_count": 91,
   "id": "de49b4fe",
   "metadata": {},
   "outputs": [
    {
     "data": {
      "text/plain": [
       "0"
      ]
     },
     "execution_count": 91,
     "metadata": {},
     "output_type": "execute_result"
    }
   ],
   "source": [
    "coffee_data.duplicated().sum()"
   ]
  },
  {
   "cell_type": "code",
   "execution_count": 92,
   "id": "2b1f0bf2",
   "metadata": {},
   "outputs": [
    {
     "data": {
      "text/html": [
       "<div>\n",
       "<style scoped>\n",
       "    .dataframe tbody tr th:only-of-type {\n",
       "        vertical-align: middle;\n",
       "    }\n",
       "\n",
       "    .dataframe tbody tr th {\n",
       "        vertical-align: top;\n",
       "    }\n",
       "\n",
       "    .dataframe thead th {\n",
       "        text-align: right;\n",
       "    }\n",
       "</style>\n",
       "<table border=\"1\" class=\"dataframe\">\n",
       "  <thead>\n",
       "    <tr style=\"text-align: right;\">\n",
       "      <th></th>\n",
       "      <th>count</th>\n",
       "      <th>mean</th>\n",
       "      <th>std</th>\n",
       "      <th>min</th>\n",
       "      <th>25%</th>\n",
       "      <th>50%</th>\n",
       "      <th>75%</th>\n",
       "      <th>max</th>\n",
       "    </tr>\n",
       "  </thead>\n",
       "  <tbody>\n",
       "    <tr>\n",
       "      <th>money</th>\n",
       "      <td>1133.0</td>\n",
       "      <td>33.105808</td>\n",
       "      <td>5.035366</td>\n",
       "      <td>18.12</td>\n",
       "      <td>28.9</td>\n",
       "      <td>32.82</td>\n",
       "      <td>37.72</td>\n",
       "      <td>40.0</td>\n",
       "    </tr>\n",
       "    <tr>\n",
       "      <th>Quantity</th>\n",
       "      <td>1133.0</td>\n",
       "      <td>51.809356</td>\n",
       "      <td>28.678811</td>\n",
       "      <td>5.00</td>\n",
       "      <td>25.0</td>\n",
       "      <td>50.00</td>\n",
       "      <td>75.00</td>\n",
       "      <td>100.0</td>\n",
       "    </tr>\n",
       "    <tr>\n",
       "      <th>Sales</th>\n",
       "      <td>1133.0</td>\n",
       "      <td>1710.745278</td>\n",
       "      <td>984.251738</td>\n",
       "      <td>90.60</td>\n",
       "      <td>906.0</td>\n",
       "      <td>1641.00</td>\n",
       "      <td>2461.50</td>\n",
       "      <td>4000.0</td>\n",
       "    </tr>\n",
       "  </tbody>\n",
       "</table>\n",
       "</div>"
      ],
      "text/plain": [
       "           count         mean         std    min    25%      50%      75%  \\\n",
       "money     1133.0    33.105808    5.035366  18.12   28.9    32.82    37.72   \n",
       "Quantity  1133.0    51.809356   28.678811   5.00   25.0    50.00    75.00   \n",
       "Sales     1133.0  1710.745278  984.251738  90.60  906.0  1641.00  2461.50   \n",
       "\n",
       "             max  \n",
       "money       40.0  \n",
       "Quantity   100.0  \n",
       "Sales     4000.0  "
      ]
     },
     "execution_count": 92,
     "metadata": {},
     "output_type": "execute_result"
    }
   ],
   "source": [
    " coffee_data.describe().T"
   ]
  },
  {
   "cell_type": "code",
   "execution_count": 93,
   "id": "bb1c87fc",
   "metadata": {},
   "outputs": [
    {
     "data": {
      "text/html": [
       "<div>\n",
       "<style scoped>\n",
       "    .dataframe tbody tr th:only-of-type {\n",
       "        vertical-align: middle;\n",
       "    }\n",
       "\n",
       "    .dataframe tbody tr th {\n",
       "        vertical-align: top;\n",
       "    }\n",
       "\n",
       "    .dataframe thead th {\n",
       "        text-align: right;\n",
       "    }\n",
       "</style>\n",
       "<table border=\"1\" class=\"dataframe\">\n",
       "  <thead>\n",
       "    <tr style=\"text-align: right;\">\n",
       "      <th></th>\n",
       "      <th>count</th>\n",
       "      <th>unique</th>\n",
       "      <th>top</th>\n",
       "      <th>freq</th>\n",
       "    </tr>\n",
       "  </thead>\n",
       "  <tbody>\n",
       "    <tr>\n",
       "      <th>cash_type</th>\n",
       "      <td>1133</td>\n",
       "      <td>2</td>\n",
       "      <td>card</td>\n",
       "      <td>1044</td>\n",
       "    </tr>\n",
       "    <tr>\n",
       "      <th>card</th>\n",
       "      <td>1044</td>\n",
       "      <td>446</td>\n",
       "      <td>ANON-0000-0000-0012</td>\n",
       "      <td>88</td>\n",
       "    </tr>\n",
       "    <tr>\n",
       "      <th>coffee_name</th>\n",
       "      <td>1133</td>\n",
       "      <td>8</td>\n",
       "      <td>Americano with Milk</td>\n",
       "      <td>268</td>\n",
       "    </tr>\n",
       "  </tbody>\n",
       "</table>\n",
       "</div>"
      ],
      "text/plain": [
       "            count unique                  top  freq\n",
       "cash_type    1133      2                 card  1044\n",
       "card         1044    446  ANON-0000-0000-0012    88\n",
       "coffee_name  1133      8  Americano with Milk   268"
      ]
     },
     "execution_count": 93,
     "metadata": {},
     "output_type": "execute_result"
    }
   ],
   "source": [
    " coffee_data.loc[:,['cash_type','card','coffee_name']].describe().T"
   ]
  },
  {
   "cell_type": "markdown",
   "id": "59963167",
   "metadata": {},
   "source": [
    "\n",
    " ● Thereare1033transactionsinthedata.\n",
    " ● 89missingvaluesinthecolumn'card'.\n",
    " ● Noduplicates.\n",
    " ● 2uniquevaluesof'cash_type'.\n",
    " ● 8differentcoffeetypeswith'AmericanowithMilk' isthemostpopularproduct.\n",
    " Let'scheckthetransactionswithmissingvaluein'card'."
   ]
  },
  {
   "cell_type": "code",
   "execution_count": 94,
   "id": "346357a5",
   "metadata": {},
   "outputs": [
    {
     "data": {
      "text/plain": [
       "cash_type\n",
       "cash    89\n",
       "Name: count, dtype: int64"
      ]
     },
     "execution_count": 94,
     "metadata": {},
     "output_type": "execute_result"
    }
   ],
   "source": [
    " coffee_data[coffee_data['card'].isnull()]['cash_type'].value_counts()"
   ]
  },
  {
   "cell_type": "code",
   "execution_count": 95,
   "id": "58c77a15",
   "metadata": {},
   "outputs": [
    {
     "data": {
      "text/plain": [
       "<Axes: >"
      ]
     },
     "execution_count": 95,
     "metadata": {},
     "output_type": "execute_result"
    },
    {
     "data": {
      "image/png": "[encoded data removed]",
      "text/plain": [
       "<Figure size 640x480 with 1 Axes>"
      ]
     },
     "metadata": {},
     "output_type": "display_data"
    }
   ],
   "source": [
    "coffee_data['cash_type'].hist()"
   ]
  },
  {
   "cell_type": "code",
   "execution_count": 96,
   "id": "c375e303",
   "metadata": {},
   "outputs": [
    {
     "data": {
      "text/plain": [
       "cash_type\n",
       "card    0.921447\n",
       "cash    0.078553\n",
       "Name: proportion, dtype: float64"
      ]
     },
     "execution_count": 96,
     "metadata": {},
     "output_type": "execute_result"
    }
   ],
   "source": [
    "coffee_data['cash_type'].value_counts(normalize=True)"
   ]
  },
  {
   "cell_type": "code",
   "execution_count": 99,
   "id": "a092e8b3",
   "metadata": {},
   "outputs": [],
   "source": [
    " #Convert date and datetime to datetme format"
   ]
  },
  {
   "cell_type": "code",
   "execution_count": null,
   "id": "5d35553c",
   "metadata": {},
   "outputs": [],
   "source": [
    " "
   ]
  },
  {
   "cell_type": "code",
   "execution_count": 103,
   "id": "09af2354",
   "metadata": {},
   "outputs": [],
   "source": [
    "coffee_data['date'] = pd.to_datetime(coffee_data['date'], format='%d-%m-%Y', errors='coerce')"
   ]
  },
  {
   "cell_type": "code",
   "execution_count": 104,
   "id": "143c40f6",
   "metadata": {},
   "outputs": [],
   "source": [
    "coffee_data['datetime'] = pd.to_datetime(coffee_data['datetime'], format='%d-%m-%Y %H:%M:%S', errors='coerce')"
   ]
  },
  {
   "cell_type": "code",
   "execution_count": 105,
   "id": "9e02f16c",
   "metadata": {},
   "outputs": [],
   "source": [
    " coffee_data['date']=pd.to_datetime(coffee_data['date'])\n",
    " coffee_data['datetime']=pd.to_datetime(coffee_data['datetime'])"
   ]
  },
  {
   "cell_type": "code",
   "execution_count": 106,
   "id": "bb68c410",
   "metadata": {},
   "outputs": [],
   "source": [
    " coffee_data['month']=coffee_data['date'].dt.strftime('%Y-%m')\n",
    " coffee_data['day']=coffee_data['date'].dt.strftime('%w')\n",
    " coffee_data['hour']=coffee_data['datetime'].dt.strftime('%H')"
   ]
  },
  {
   "cell_type": "code",
   "execution_count": 107,
   "id": "653cc139",
   "metadata": {},
   "outputs": [
    {
     "name": "stdout",
     "output_type": "stream",
     "text": [
      "<class 'pandas.core.frame.DataFrame'>\n",
      "RangeIndex: 1133 entries, 0 to 1132\n",
      "Data columns (total 11 columns):\n",
      " #   Column       Non-Null Count  Dtype         \n",
      "---  ------       --------------  -----         \n",
      " 0   date         1133 non-null   datetime64[ns]\n",
      " 1   datetime     0 non-null      datetime64[ns]\n",
      " 2   cash_type    1133 non-null   object        \n",
      " 3   card         1044 non-null   object        \n",
      " 4   money        1133 non-null   float64       \n",
      " 5   coffee_name  1133 non-null   object        \n",
      " 6   Quantity     1133 non-null   int64         \n",
      " 7   Sales        1133 non-null   float64       \n",
      " 8   month        1133 non-null   object        \n",
      " 9   day          1133 non-null   object        \n",
      " 10  hour         0 non-null      object        \n",
      "dtypes: datetime64[ns](2), float64(2), int64(1), object(6)\n",
      "memory usage: 97.5+ KB\n"
     ]
    }
   ],
   "source": [
    " coffee_data.info()"
   ]
  },
  {
   "cell_type": "code",
   "execution_count": 108,
   "id": "562a52aa",
   "metadata": {},
   "outputs": [
    {
     "data": {
      "text/html": [
       "<div>\n",
       "<style scoped>\n",
       "    .dataframe tbody tr th:only-of-type {\n",
       "        vertical-align: middle;\n",
       "    }\n",
       "\n",
       "    .dataframe tbody tr th {\n",
       "        vertical-align: top;\n",
       "    }\n",
       "\n",
       "    .dataframe thead th {\n",
       "        text-align: right;\n",
       "    }\n",
       "</style>\n",
       "<table border=\"1\" class=\"dataframe\">\n",
       "  <thead>\n",
       "    <tr style=\"text-align: right;\">\n",
       "      <th></th>\n",
       "      <th>date</th>\n",
       "      <th>datetime</th>\n",
       "      <th>cash_type</th>\n",
       "      <th>card</th>\n",
       "      <th>money</th>\n",
       "      <th>coffee_name</th>\n",
       "      <th>Quantity</th>\n",
       "      <th>Sales</th>\n",
       "      <th>month</th>\n",
       "      <th>day</th>\n",
       "      <th>hour</th>\n",
       "    </tr>\n",
       "  </thead>\n",
       "  <tbody>\n",
       "    <tr>\n",
       "      <th>0</th>\n",
       "      <td>2024-03-01</td>\n",
       "      <td>NaT</td>\n",
       "      <td>card</td>\n",
       "      <td>ANON-0000-0000-0001</td>\n",
       "      <td>38.7</td>\n",
       "      <td>Latte</td>\n",
       "      <td>50</td>\n",
       "      <td>1935.0</td>\n",
       "      <td>2024-03</td>\n",
       "      <td>5</td>\n",
       "      <td>NaN</td>\n",
       "    </tr>\n",
       "    <tr>\n",
       "      <th>1</th>\n",
       "      <td>2024-03-01</td>\n",
       "      <td>NaT</td>\n",
       "      <td>card</td>\n",
       "      <td>ANON-0000-0000-0002</td>\n",
       "      <td>38.7</td>\n",
       "      <td>Hot Chocolate</td>\n",
       "      <td>60</td>\n",
       "      <td>2322.0</td>\n",
       "      <td>2024-03</td>\n",
       "      <td>5</td>\n",
       "      <td>NaN</td>\n",
       "    </tr>\n",
       "    <tr>\n",
       "      <th>2</th>\n",
       "      <td>2024-03-01</td>\n",
       "      <td>NaT</td>\n",
       "      <td>card</td>\n",
       "      <td>ANON-0000-0000-0002</td>\n",
       "      <td>38.7</td>\n",
       "      <td>Hot Chocolate</td>\n",
       "      <td>60</td>\n",
       "      <td>2322.0</td>\n",
       "      <td>2024-03</td>\n",
       "      <td>5</td>\n",
       "      <td>NaN</td>\n",
       "    </tr>\n",
       "    <tr>\n",
       "      <th>3</th>\n",
       "      <td>2024-03-01</td>\n",
       "      <td>NaT</td>\n",
       "      <td>card</td>\n",
       "      <td>ANON-0000-0000-0003</td>\n",
       "      <td>28.9</td>\n",
       "      <td>Americano</td>\n",
       "      <td>60</td>\n",
       "      <td>1734.0</td>\n",
       "      <td>2024-03</td>\n",
       "      <td>5</td>\n",
       "      <td>NaN</td>\n",
       "    </tr>\n",
       "    <tr>\n",
       "      <th>4</th>\n",
       "      <td>2024-03-01</td>\n",
       "      <td>NaT</td>\n",
       "      <td>card</td>\n",
       "      <td>ANON-0000-0000-0004</td>\n",
       "      <td>38.7</td>\n",
       "      <td>Latte</td>\n",
       "      <td>15</td>\n",
       "      <td>580.5</td>\n",
       "      <td>2024-03</td>\n",
       "      <td>5</td>\n",
       "      <td>NaN</td>\n",
       "    </tr>\n",
       "  </tbody>\n",
       "</table>\n",
       "</div>"
      ],
      "text/plain": [
       "        date datetime cash_type                 card  money    coffee_name  \\\n",
       "0 2024-03-01      NaT      card  ANON-0000-0000-0001   38.7          Latte   \n",
       "1 2024-03-01      NaT      card  ANON-0000-0000-0002   38.7  Hot Chocolate   \n",
       "2 2024-03-01      NaT      card  ANON-0000-0000-0002   38.7  Hot Chocolate   \n",
       "3 2024-03-01      NaT      card  ANON-0000-0000-0003   28.9      Americano   \n",
       "4 2024-03-01      NaT      card  ANON-0000-0000-0004   38.7          Latte   \n",
       "\n",
       "   Quantity   Sales    month day hour  \n",
       "0        50  1935.0  2024-03   5  NaN  \n",
       "1        60  2322.0  2024-03   5  NaN  \n",
       "2        60  2322.0  2024-03   5  NaN  \n",
       "3        60  1734.0  2024-03   5  NaN  \n",
       "4        15   580.5  2024-03   5  NaN  "
      ]
     },
     "execution_count": 108,
     "metadata": {},
     "output_type": "execute_result"
    }
   ],
   "source": [
    " coffee_data.head()"
   ]
  },
  {
   "cell_type": "code",
   "execution_count": 110,
   "id": "769544d2",
   "metadata": {},
   "outputs": [],
   "source": [
    "revenue_data =coffee_data.groupby(['coffee_name']).sum(['money']).reset_index().sort_values(by='money',ascending=False)\n",
    "\n"
   ]
  },
  {
   "cell_type": "code",
   "execution_count": 111,
   "id": "a16d7711",
   "metadata": {},
   "outputs": [
    {
     "data": {
      "text/plain": [
       "Text(0.5, 0, 'Revenue')"
      ]
     },
     "execution_count": 111,
     "metadata": {},
     "output_type": "execute_result"
    },
    {
     "data": {
      "image/png": "[encoded data removed]",
      "text/plain": [
       "<Figure size 1000x400 with 1 Axes>"
      ]
     },
     "metadata": {},
     "output_type": "display_data"
    }
   ],
   "source": [
    " plt.figure(figsize=(10,4))\n",
    " ax = sns.barplot(data=revenue_data,x='money',y='coffee_name',color='steelblue')\n",
    " ax.bar_label(ax.containers[0], fontsize=6)\n",
    " plt.xlabel('Revenue')"
   ]
  },
  {
   "cell_type": "code",
   "execution_count": 116,
   "id": "d394bc76",
   "metadata": {},
   "outputs": [],
   "source": [
    "# Group by 'coffee_name' and 'month', count occurrences of 'date'\n",
    "monthly_sales = (coffee_data\n",
    "                 .groupby(['coffee_name', 'month'])\n",
    "                 .count()['date']\n",
    "                 .reset_index()\n",
    "                 .rename(columns={'date': 'count'})\n",
    "                 .pivot(index='month', columns='coffee_name', values='count')\n",
    "                 .reset_index())\n",
    "\n",
    "\n"
   ]
  },
  {
   "cell_type": "code",
   "execution_count": 117,
   "id": "4d50f4d5",
   "metadata": {},
   "outputs": [
    {
     "data": {
      "text/html": [
       "<div>\n",
       "<style scoped>\n",
       "    .dataframe tbody tr th:only-of-type {\n",
       "        vertical-align: middle;\n",
       "    }\n",
       "\n",
       "    .dataframe tbody tr th {\n",
       "        vertical-align: top;\n",
       "    }\n",
       "\n",
       "    .dataframe thead th {\n",
       "        text-align: right;\n",
       "    }\n",
       "</style>\n",
       "<table border=\"1\" class=\"dataframe\">\n",
       "  <thead>\n",
       "    <tr style=\"text-align: right;\">\n",
       "      <th>coffee_name</th>\n",
       "      <th>month</th>\n",
       "      <th>Americano</th>\n",
       "      <th>Americano with Milk</th>\n",
       "      <th>Cappuccino</th>\n",
       "      <th>Cocoa</th>\n",
       "      <th>Cortado</th>\n",
       "      <th>Espresso</th>\n",
       "      <th>Hot Chocolate</th>\n",
       "      <th>Latte</th>\n",
       "    </tr>\n",
       "  </thead>\n",
       "  <tbody>\n",
       "    <tr>\n",
       "      <th>0</th>\n",
       "      <td>2024-03</td>\n",
       "      <td>36</td>\n",
       "      <td>34</td>\n",
       "      <td>20</td>\n",
       "      <td>6</td>\n",
       "      <td>30</td>\n",
       "      <td>10</td>\n",
       "      <td>22</td>\n",
       "      <td>48</td>\n",
       "    </tr>\n",
       "    <tr>\n",
       "      <th>1</th>\n",
       "      <td>2024-04</td>\n",
       "      <td>35</td>\n",
       "      <td>42</td>\n",
       "      <td>43</td>\n",
       "      <td>6</td>\n",
       "      <td>19</td>\n",
       "      <td>7</td>\n",
       "      <td>13</td>\n",
       "      <td>31</td>\n",
       "    </tr>\n",
       "    <tr>\n",
       "      <th>2</th>\n",
       "      <td>2024-05</td>\n",
       "      <td>48</td>\n",
       "      <td>58</td>\n",
       "      <td>55</td>\n",
       "      <td>9</td>\n",
       "      <td>17</td>\n",
       "      <td>8</td>\n",
       "      <td>14</td>\n",
       "      <td>58</td>\n",
       "    </tr>\n",
       "    <tr>\n",
       "      <th>3</th>\n",
       "      <td>2024-06</td>\n",
       "      <td>14</td>\n",
       "      <td>69</td>\n",
       "      <td>46</td>\n",
       "      <td>5</td>\n",
       "      <td>19</td>\n",
       "      <td>10</td>\n",
       "      <td>14</td>\n",
       "      <td>50</td>\n",
       "    </tr>\n",
       "    <tr>\n",
       "      <th>4</th>\n",
       "      <td>2024-07</td>\n",
       "      <td>36</td>\n",
       "      <td>65</td>\n",
       "      <td>32</td>\n",
       "      <td>9</td>\n",
       "      <td>14</td>\n",
       "      <td>14</td>\n",
       "      <td>11</td>\n",
       "      <td>56</td>\n",
       "    </tr>\n",
       "  </tbody>\n",
       "</table>\n",
       "</div>"
      ],
      "text/plain": [
       "coffee_name    month  Americano  Americano with Milk  Cappuccino  Cocoa  \\\n",
       "0            2024-03         36                   34          20      6   \n",
       "1            2024-04         35                   42          43      6   \n",
       "2            2024-05         48                   58          55      9   \n",
       "3            2024-06         14                   69          46      5   \n",
       "4            2024-07         36                   65          32      9   \n",
       "\n",
       "coffee_name  Cortado  Espresso  Hot Chocolate  Latte  \n",
       "0                 30        10             22     48  \n",
       "1                 19         7             13     31  \n",
       "2                 17         8             14     58  \n",
       "3                 19        10             14     50  \n",
       "4                 14        14             11     56  "
      ]
     },
     "execution_count": 117,
     "metadata": {},
     "output_type": "execute_result"
    }
   ],
   "source": [
    "monthly_sales"
   ]
  },
  {
   "cell_type": "code",
   "execution_count": 119,
   "id": "f8f842b3",
   "metadata": {},
   "outputs": [
    {
     "data": {
      "text/plain": [
       "([<matplotlib.axis.XTick at 0x1a47a054910>,\n",
       "  <matplotlib.axis.XTick at 0x1a479d38f50>,\n",
       "  <matplotlib.axis.XTick at 0x1a479d390d0>,\n",
       "  <matplotlib.axis.XTick at 0x1a479cd3d50>,\n",
       "  <matplotlib.axis.XTick at 0x1a479c7b450>],\n",
       " [Text(0, 0, '2024-03'),\n",
       "  Text(1, 0, '2024-04'),\n",
       "  Text(2, 0, '2024-05'),\n",
       "  Text(3, 0, '2024-06'),\n",
       "  Text(4, 0, '2024-07')])"
      ]
     },
     "execution_count": 119,
     "metadata": {},
     "output_type": "execute_result"
    },
    {
     "data": {
      "image/png": "[encoded data removed]",
      "text/plain": [
       "<Figure size 1200x600 with 1 Axes>"
      ]
     },
     "metadata": {},
     "output_type": "display_data"
    }
   ],
   "source": [
    "plt.figure(figsize=(12,6))\n",
    "sns.lineplot(data=monthly_sales)\n",
    "plt.legend(loc='upper left')\n",
    "plt.xticks(range(len(monthly_sales['month'])),monthly_sales['month'],size='small')\n"
   ]
  },
  {
   "cell_type": "code",
   "execution_count": 120,
   "id": "dede5f99",
   "metadata": {},
   "outputs": [],
   "source": [
    "weekly_sales=coffee_data.groupby(['day']).count()['date'].reset_index().rename(columns={'date':'count'})"
   ]
  },
  {
   "cell_type": "code",
   "execution_count": 121,
   "id": "f4845801",
   "metadata": {},
   "outputs": [
    {
     "data": {
      "text/html": [
       "<div>\n",
       "<style scoped>\n",
       "    .dataframe tbody tr th:only-of-type {\n",
       "        vertical-align: middle;\n",
       "    }\n",
       "\n",
       "    .dataframe tbody tr th {\n",
       "        vertical-align: top;\n",
       "    }\n",
       "\n",
       "    .dataframe thead th {\n",
       "        text-align: right;\n",
       "    }\n",
       "</style>\n",
       "<table border=\"1\" class=\"dataframe\">\n",
       "  <thead>\n",
       "    <tr style=\"text-align: right;\">\n",
       "      <th></th>\n",
       "      <th>day</th>\n",
       "      <th>count</th>\n",
       "    </tr>\n",
       "  </thead>\n",
       "  <tbody>\n",
       "    <tr>\n",
       "      <th>0</th>\n",
       "      <td>0</td>\n",
       "      <td>151</td>\n",
       "    </tr>\n",
       "    <tr>\n",
       "      <th>1</th>\n",
       "      <td>1</td>\n",
       "      <td>151</td>\n",
       "    </tr>\n",
       "    <tr>\n",
       "      <th>2</th>\n",
       "      <td>2</td>\n",
       "      <td>185</td>\n",
       "    </tr>\n",
       "    <tr>\n",
       "      <th>3</th>\n",
       "      <td>3</td>\n",
       "      <td>165</td>\n",
       "    </tr>\n",
       "    <tr>\n",
       "      <th>4</th>\n",
       "      <td>4</td>\n",
       "      <td>164</td>\n",
       "    </tr>\n",
       "    <tr>\n",
       "      <th>5</th>\n",
       "      <td>5</td>\n",
       "      <td>163</td>\n",
       "    </tr>\n",
       "    <tr>\n",
       "      <th>6</th>\n",
       "      <td>6</td>\n",
       "      <td>154</td>\n",
       "    </tr>\n",
       "  </tbody>\n",
       "</table>\n",
       "</div>"
      ],
      "text/plain": [
       "  day  count\n",
       "0   0    151\n",
       "1   1    151\n",
       "2   2    185\n",
       "3   3    165\n",
       "4   4    164\n",
       "5   5    163\n",
       "6   6    154"
      ]
     },
     "execution_count": 121,
     "metadata": {},
     "output_type": "execute_result"
    }
   ],
   "source": [
    "weekly_sales"
   ]
  },
  {
   "cell_type": "code",
   "execution_count": 123,
   "id": "35eb1806",
   "metadata": {},
   "outputs": [
    {
     "data": {
      "image/png": "[encoded data removed]",
      "text/plain": [
       "<Figure size 1000x600 with 1 Axes>"
      ]
     },
     "metadata": {},
     "output_type": "display_data"
    }
   ],
   "source": [
    "plt.figure(figsize=(10,6))\n",
    "\n",
    "sns.barplot(data=weekly_sales, x='day', y='count', color='steelblue')\n",
    "\n",
    "# Set the day labels\n",
    "plt.xticks(ticks=range(len(weekly_sales['day'])), \n",
    "           labels=['Sun', 'Mon', 'Tue', 'Wed', 'Thu', 'Fri', 'Sat'], \n",
    "           rotation=45, size='small')\n",
    "\n",
    "plt.title('Weekly Sales Count by Day')\n",
    "plt.xlabel('Day of the Week')\n",
    "plt.ylabel('Sales Count')\n",
    "plt.show()\n"
   ]
  },
  {
   "cell_type": "code",
   "execution_count": null,
   "id": "2a45df71",
   "metadata": {},
   "outputs": [],
   "source": []
  },
  {
   "cell_type": "code",
   "execution_count": null,
   "id": "0cf91c47",
   "metadata": {},
   "outputs": [],
   "source": []
  },
  {
   "cell_type": "code",
   "execution_count": null,
   "id": "f96c2210",
   "metadata": {},
   "outputs": [],
   "source": []
  }
 ],
 "metadata": {
  "kernelspec": {
   "display_name": "Python 3 (ipykernel)",
   "language": "python",
   "name": "python3"
  },
  "language_info": {
   "codemirror_mode": {
    "name": "ipython",
    "version": 3
   },
   "file_extension": ".py",
   "mimetype": "text/x-python",
   "name": "python",
   "nbconvert_exporter": "python",
   "pygments_lexer": "ipython3",
   "version": "3.11.5"
  }
 },
 "nbformat": 4,
 "nbformat_minor": 5
}
